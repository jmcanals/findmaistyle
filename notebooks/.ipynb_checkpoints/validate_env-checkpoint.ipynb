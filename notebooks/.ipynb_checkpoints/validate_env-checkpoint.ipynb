{
 "cells": [
  {
   "cell_type": "code",
   "execution_count": null,
   "id": "5a21138e",
   "metadata": {
    "vscode": {
     "languageId": "plaintext"
    }
   },
   "outputs": [],
   "source": [
    "import spacy\n",
    "import pandas as pd\n",
    "import transformers\n",
    "import streamlit\n",
    "import whisper\n",
    "\n",
    "print(\"✅ spaCy versión:\", spacy.__version__)\n",
    "print(\"✅ pandas versión:\", pd.__version__)\n",
    "print(\"✅ transformers versión:\", transformers.__version__)\n",
    "print(\"✅ streamlit versión:\", streamlit.__version__)\n",
    "print(\"✅ whisper versión:\", whisper.__version__)"
   ]
  },
  {
   "cell_type": "code",
   "execution_count": null,
   "id": "9c61214d",
   "metadata": {
    "vscode": {
     "languageId": "plaintext"
    }
   },
   "outputs": [
    {
     "name": "stdout",
     "output_type": "stream",
     "text": [
      "spaCy ERROR: name 'spacy' is not defined\n",
      "pandas ERROR: name 'pd' is not defined\n"
     ]
    },
    {
     "name": "stderr",
     "output_type": "stream",
     "text": [
      "/home/juanma/.cache/pypoetry/virtualenvs/findmaistyle-mcjIewcU-py3.12/lib/python3.12/site-packages/tqdm/auto.py:21: TqdmWarning: IProgress not found. Please update jupyter and ipywidgets. See https://ipywidgets.readthedocs.io/en/stable/user_install.html\n",
      "  from .autonotebook import tqdm as notebook_tqdm\n"
     ]
    }
   ],
   "source": [
    "# spaCy: cargar modelo por defecto (puedes cambiar el idioma si quieres)\n",
    "try:\n",
    "    nlp = spacy.blank(\"es\")\n",
    "    doc = nlp(\"Hola, este es un test rápido de spaCy.\")\n",
    "    print(\"spaCy funciona: \", [token.text for token in doc])\n",
    "except Exception as e:\n",
    "    print(\"spaCy ERROR:\", e)\n",
    "\n",
    "# pandas: crear un DataFrame simple\n",
    "try:\n",
    "    df = pd.DataFrame({'col1': [1,2], 'col2': [3,4]})\n",
    "    print(\"pandas funciona:\\n\", df)\n",
    "except Exception as e:\n",
    "    print(\"pandas ERROR:\", e)\n",
    "\n",
    "# transformers: cargar pipeline de ejemplo\n",
    "try:\n",
    "    from transformers import pipeline\n",
    "    fill_mask = pipeline(\"fill-mask\", model=\"bert-base-uncased\")\n",
    "    print(\"transformers funciona: ejemplo:\",\n",
    "          fill_mask(\"The quick brown fox jumps over the [MASK].\")[0])\n",
    "except Exception as e:\n",
    "    print(\"transformers ERROR:\", e)\n",
    "\n",
    "# whisper: cargar modelo (esto requiere GPU o tardará un rato en CPU)\n",
    "try:\n",
    "    model = whisper.load_model(\"base\")\n",
    "    print(\"whisper funciona: modelo 'base' cargado correctamente.\")\n",
    "except Exception as e:\n",
    "    print(\"whisper ERROR:\", e)\n"
   ]
  }
 ],
 "metadata": {
  "kernelspec": {
   "display_name": "Python 3 (ipykernel)",
   "language": "python",
   "name": "python3"
  },
  "language_info": {
   "codemirror_mode": {
    "name": "ipython",
    "version": 3
   },
   "file_extension": ".py",
   "mimetype": "text/x-python",
   "name": "python",
   "nbconvert_exporter": "python",
   "pygments_lexer": "ipython3",
   "version": "3.12.3"
  }
 },
 "nbformat": 4,
 "nbformat_minor": 5
}
